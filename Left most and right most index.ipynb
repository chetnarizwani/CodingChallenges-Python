{
 "cells": [
  {
   "cell_type": "code",
   "execution_count": 5,
   "metadata": {},
   "outputs": [
    {
     "name": "stdout",
     "output_type": "stream",
     "text": [
      "-1\n"
     ]
    }
   ],
   "source": [
    "class Solution :\n",
    "    def indexes(self, v, x):\n",
    "        f = self.first(v,x)\n",
    "        l = self.last(v,x)\n",
    "        res = [f,l]\n",
    "        return res\n",
    "    \n",
    "    def first(self,v,x):\n",
    "        left,right = (0,len(v)-1)\n",
    "        res = -1\n",
    "        while left <= right:\n",
    "            mid = (left+right)//2\n",
    "            if x == v[mid]:\n",
    "                res = mid\n",
    "                right = mid-1\n",
    "            elif x < v[mid]:\n",
    "                right = mid - 1\n",
    "            else:\n",
    "                left = mid + 1\n",
    "        return res\n",
    "    def last(self,v,x):\n",
    "        left,right = (0,len(v)-1)\n",
    "        res = -1\n",
    "        while left <= right:\n",
    "            mid = (left+right)//2\n",
    "            if x == v[mid]:\n",
    "                res = mid\n",
    "                left = mid + 1\n",
    "            elif x < v[mid]:\n",
    "                right = mid - 1\n",
    "            else:\n",
    "                left = mid + 1\n",
    "        return res\n",
    "        \n",
    "    \n",
    "    \n",
    "    \n",
    "v = [1, 3, 5, 5, 5, 5, 67, 123, 125]\n",
    "x = 61\n",
    "ob = Solution()\n",
    "ans = ob.indexes(v,x)\n",
    "if ans[0]==-1 and ans[1]==-1:\n",
    "    print(-1)\n",
    "else:\n",
    "    print(ans)"
   ]
  },
  {
   "cell_type": "code",
   "execution_count": null,
   "metadata": {},
   "outputs": [],
   "source": []
  }
 ],
 "metadata": {
  "kernelspec": {
   "display_name": "Python 3",
   "language": "python",
   "name": "python3"
  },
  "language_info": {
   "codemirror_mode": {
    "name": "ipython",
    "version": 3
   },
   "file_extension": ".py",
   "mimetype": "text/x-python",
   "name": "python",
   "nbconvert_exporter": "python",
   "pygments_lexer": "ipython3",
   "version": "3.8.3"
  }
 },
 "nbformat": 4,
 "nbformat_minor": 4
}
