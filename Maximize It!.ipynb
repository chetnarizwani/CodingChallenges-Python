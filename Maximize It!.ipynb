{
 "cells": [
  {
   "cell_type": "code",
   "execution_count": 1,
   "metadata": {},
   "outputs": [
    {
     "name": "stdout",
     "output_type": "stream",
     "text": [
      "3 1000\n",
      "2 5 4\n",
      "3 7 8 9\n",
      "5 5 7 8 9 10\n",
      "206\n"
     ]
    }
   ],
   "source": [
    "from itertools import product\n",
    "K, M = map(int,input().split())\n",
    "num = []\n",
    "for _ in range(K):\n",
    "    row = list(map(int,input().split()[1:]))\n",
    "    # print(row)\n",
    "    num.append(list(map(lambda x:x**2,row)))\n",
    "# print(num)\n",
    "# print([x for x in product(*num)])\n",
    "print(max(map(lambda x: sum(x)%M, product(*num))))  \n"
   ]
  },
  {
   "cell_type": "code",
   "execution_count": null,
   "metadata": {},
   "outputs": [],
   "source": []
  }
 ],
 "metadata": {
  "kernelspec": {
   "display_name": "Python 3",
   "language": "python",
   "name": "python3"
  },
  "language_info": {
   "codemirror_mode": {
    "name": "ipython",
    "version": 3
   },
   "file_extension": ".py",
   "mimetype": "text/x-python",
   "name": "python",
   "nbconvert_exporter": "python",
   "pygments_lexer": "ipython3",
   "version": "3.8.3"
  }
 },
 "nbformat": 4,
 "nbformat_minor": 4
}
