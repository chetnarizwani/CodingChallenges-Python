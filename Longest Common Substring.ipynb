{
 "cells": [
  {
   "cell_type": "code",
   "execution_count": 30,
   "metadata": {},
   "outputs": [
    {
     "name": "stdout",
     "output_type": "stream",
     "text": [
      "Hello\n",
      "ell\n",
      "[[0, 0, 0, 0], [0, 0, 0, 0], [0, 0, 0, 0], [0, 0, 0, 0], [0, 0, 0, 0], [0, 0, 0, 0]]\n",
      "[[0, 0, 0, 0], [0, 0, 0, 0], [0, 1, 0, 0], [0, 0, 2, 1], [0, 0, 1, 3], [0, 0, 0, 0]]\n",
      "3\n"
     ]
    }
   ],
   "source": [
    "class Solution:\n",
    "    def longestCommonSubstr(self, S1, S2, n, m):\n",
    "        # code here\n",
    "        LCSubStr = [[0 for k in range(m+1)] for l in range(n+1)]\n",
    "#         print(LCSubStr)\n",
    "        \n",
    "        res = 0\n",
    "        for i in range(n+1):\n",
    "            for j in range(m+1):\n",
    "                if i == 0 or j == 0:\n",
    "                    LCSubStr[i][j] = 0\n",
    "                elif S1[i-1] == S2[j-1]:\n",
    "                    LCSubStr[i][j] = LCSubStr[i-1][j-1]+1\n",
    "                    res = max(res,LCSubStr[i][j])\n",
    "                else:\n",
    "                    LCSubStr[i][j] = 0\n",
    "#         print(LCSubStr)\n",
    "        return res\n",
    "\n",
    "S1 = input().strip()\n",
    "S2 = input().strip()\n",
    "ob = Solution()\n",
    "print(ob.longestCommonSubstr(S1,S2,len(S1),len(S2)))\n",
    "\n",
    "# ABCDGH\n",
    "# ACDGHR\n",
    "\n",
    "#        A    B    C    D    G    H\n",
    "# [[0,   0,   0,   0,   0,   0,   0],\n",
    "# A[0,   1,   0,   0,   0,   0,   0],\n",
    "# C[0,   0,   0,   1,   0,   0,   0],\n",
    "# D[0,   0,   0,   0,   2,   0,   0],\n",
    "# G[0,   0,   0,   0,   0,   3,   0],\n",
    "# H[0,   0,   0,   0,   0,   0,   4],\n",
    "# R[0,   0,   0,   0,   0,   0,   0],]"
   ]
  },
  {
   "cell_type": "code",
   "execution_count": null,
   "metadata": {},
   "outputs": [],
   "source": []
  }
 ],
 "metadata": {
  "kernelspec": {
   "display_name": "Python 3",
   "language": "python",
   "name": "python3"
  },
  "language_info": {
   "codemirror_mode": {
    "name": "ipython",
    "version": 3
   },
   "file_extension": ".py",
   "mimetype": "text/x-python",
   "name": "python",
   "nbconvert_exporter": "python",
   "pygments_lexer": "ipython3",
   "version": "3.8.3"
  }
 },
 "nbformat": 4,
 "nbformat_minor": 4
}
