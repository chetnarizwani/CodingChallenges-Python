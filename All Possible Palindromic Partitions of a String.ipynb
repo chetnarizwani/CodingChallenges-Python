{
 "cells": [
  {
   "cell_type": "code",
   "execution_count": 30,
   "metadata": {},
   "outputs": [
    {
     "name": "stdout",
     "output_type": "stream",
     "text": [
      "('a', 'b', 'a', 'a', 'd', 'a')\n",
      "-------------------i2 1 i2-----------------\n",
      "Array2 ['a', 'b', 'a', 'a', 'd', 'a']\n",
      "----- 2 , 6 , a , a\n",
      "Condition2----- 2 a , a\n",
      "Brr2----- [] ['aba'] ['a', 'd', 'a']\n",
      "Brr2----- ['aba', 'a', 'd', 'a']\n",
      "('aba', 'a', 'd', 'a')\n",
      "-------------------i2 2 i2-----------------\n",
      "Array2 ['aba', 'a', 'd', 'a']\n",
      "----- 3 , 4 , a , a\n",
      "Condition2----- 3 a , a\n",
      "Brr2----- ['aba'] ['ada'] []\n",
      "Brr2----- ['aba', 'ada']\n",
      "('aba', 'ada')\n",
      "-------------------i1 3 i1-----------------\n",
      "Array1 ['a', 'b', 'a', 'a', 'd', 'a']\n",
      "----- a , a\n",
      "Condition1----- a , a\n",
      "Brr1----- ['a', 'b'] ['aa'] ['d', 'a']\n",
      "Brr1----- ['a', 'b', 'aa', 'd', 'a']\n",
      "('a', 'b', 'aa', 'd', 'a')\n",
      "-------------------i2 4 i2-----------------\n",
      "Array2 ['a', 'b', 'a', 'a', 'd', 'a']\n",
      "----- 5 , 6 , a , a\n",
      "Condition2----- 5 a , a\n",
      "Brr2----- ['a', 'b', 'a'] ['ada'] []\n",
      "Brr2----- ['a', 'b', 'a', 'ada']\n",
      "('a', 'b', 'a', 'ada')\n",
      "-------------------i2 1 i2-----------------\n",
      "Array2 ['a', 'b', 'a', 'ada']\n",
      "----- 2 , 4 , a , a\n",
      "Condition2----- 2 a , a\n",
      "Brr2----- [] ['aba'] ['ada']\n",
      "Brr2----- ['aba', 'ada']\n",
      "('aba', 'ada')\n",
      "Final Answer -------->\n",
      "a b a a d a \n",
      "a b a ada \n",
      "a b aa d a \n",
      "aba a d a \n",
      "aba ada \n"
     ]
    }
   ],
   "source": [
    "class Solution:\n",
    "    def allPalindromicPerms(self, S):\n",
    "        self.res = set()\n",
    "        self.solve(list(S))\n",
    "        return sorted(list(self.res))\n",
    "    def solve(self, arr):\n",
    "        print(tuple(arr)) #Comment\n",
    "        self.res.add(tuple(arr))\n",
    "        if len(arr)<=1:\n",
    "            return\n",
    "        for i in range(1,len(arr)):\n",
    "            if arr[i-1]==arr[i][::-1]:\n",
    "                print('-------------------i1',i,'i1-----------------')  #Comment\n",
    "                print(\"Array1\",arr) #Comment\n",
    "                print('-----',arr[i-1],',',arr[i][::-1]) #Comment\n",
    "                print('Condition1-----',arr[i-1],',',arr[i][::-1]) #Comment\n",
    "                brr = arr[:i-1] + [arr[i-1]+arr[i]] + arr[i+1:]\n",
    "                print('Brr1-----',arr[:i-1],[arr[i-1]+arr[i]],arr[i+1:]) #Comment\n",
    "                print(\"Brr1-----\",brr) #Comment\n",
    "                self.solve(brr)\n",
    "            if i+1<len(arr) and arr[i-1]==arr[i+1][::-1]:\n",
    "                print('-------------------i2',i,'i2-----------------') #Comment\n",
    "                print(\"Array2\",arr) #Comment\n",
    "                print('-----',i+1,',',len(arr),',',arr[i-1],',',arr[i+1][::-1]) #Comment\n",
    "                print('Condition2-----',i+1,arr[i-1],',',arr[i+1][::-1]) #Comment\n",
    "                brr = arr[:i-1] + [arr[i-1]+arr[i]+arr[i+1]] + arr[i+2:]\n",
    "                print('Brr2-----',arr[:i-1],[arr[i-1]+arr[i]+arr[i+1]],arr[i+2:]) #Comment\n",
    "                print(\"Brr2-----\",brr) #Comment\n",
    "                self.solve(brr)\n",
    "                \n",
    "ob = Solution()\n",
    "arr = ob.allPalindromicPerms(\"abaada\")\n",
    "print(\"Final Answer -------->\") #Comment\n",
    "for i in range(len(arr)): \n",
    "    for j in range(len(arr[i])): \n",
    "        print(arr[i][j], end = \" \") \n",
    "    print() "
   ]
  },
  {
   "cell_type": "code",
   "execution_count": 25,
   "metadata": {},
   "outputs": [
    {
     "name": "stdout",
     "output_type": "stream",
     "text": [
      "g e e k s \n",
      "g ee k s \n"
     ]
    }
   ],
   "source": [
    "class Solution:\n",
    "    def allPalindromicPerms(self, S):\n",
    "        self.res = set() \n",
    "        self.solve(list(S))\n",
    "        return sorted(list(self.res))\n",
    "    def solve(self, arr):\n",
    "        self.res.add(tuple(arr)) \n",
    "        if len(arr)<=1:\n",
    "            return\n",
    "        for i in range(1,len(arr)):\n",
    "            if arr[i-1]==arr[i][::-1]:\n",
    "                brr = arr[:i-1] + [arr[i-1]+arr[i]] + arr[i+1:]\n",
    "                self.solve(brr)\n",
    "            if i+1<len(arr) and arr[i-1]==arr[i+1][::-1]:  \n",
    "                brr = arr[:i-1] + [arr[i-1]+arr[i]+arr[i+1]] + arr[i+2:]\n",
    "                self.solve(brr)\n",
    "ob = Solution()\n",
    "arr = ob.allPalindromicPerms(\"geeks\")\n",
    "for i in range(len(arr)): \n",
    "    for j in range(len(arr[i])): \n",
    "        print(arr[i][j], end = \" \") \n",
    "    print() \n"
   ]
  },
  {
   "cell_type": "code",
   "execution_count": null,
   "metadata": {},
   "outputs": [],
   "source": []
  }
 ],
 "metadata": {
  "kernelspec": {
   "display_name": "Python 3",
   "language": "python",
   "name": "python3"
  },
  "language_info": {
   "codemirror_mode": {
    "name": "ipython",
    "version": 3
   },
   "file_extension": ".py",
   "mimetype": "text/x-python",
   "name": "python",
   "nbconvert_exporter": "python",
   "pygments_lexer": "ipython3",
   "version": "3.8.3"
  }
 },
 "nbformat": 4,
 "nbformat_minor": 4
}
