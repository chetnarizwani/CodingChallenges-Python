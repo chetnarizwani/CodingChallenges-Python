{
 "cells": [
  {
   "cell_type": "code",
   "execution_count": 1,
   "metadata": {},
   "outputs": [
    {
     "data": {
      "text/plain": [
       "22"
      ]
     },
     "execution_count": 1,
     "metadata": {},
     "output_type": "execute_result"
    }
   ],
   "source": [
    "def circularSubarraySum(a,n):\n",
    "    if n == 1:\n",
    "        return a[0]\n",
    "    sum = 0\n",
    "    for i in range(n):\n",
    "        sum += a[i]\n",
    "    curr_max = a[0]\n",
    "    curr_min = a[0]\n",
    "    max_sum = a[0]\n",
    "    min_sum = a[0]\n",
    "    \n",
    "    for i in range(1,n):\n",
    "        curr_max = max(curr_max + a[i],a[i])\n",
    "        curr_min = min(curr_min + a[i],a[i])\n",
    "        max_sum = max(max_sum,curr_max)\n",
    "        min_sum = min(min_sum,curr_min)\n",
    "    if min_sum == sum:\n",
    "        return max_sum\n",
    "    return max(max_sum,sum - min_sum)\n",
    "\n",
    "arr = [8,-8,9,-9,10,-11,12]\n",
    "circularSubarraySum(arr,len(arr))"
   ]
  },
  {
   "cell_type": "code",
   "execution_count": null,
   "metadata": {},
   "outputs": [],
   "source": []
  }
 ],
 "metadata": {
  "kernelspec": {
   "display_name": "Python 3",
   "language": "python",
   "name": "python3"
  },
  "language_info": {
   "codemirror_mode": {
    "name": "ipython",
    "version": 3
   },
   "file_extension": ".py",
   "mimetype": "text/x-python",
   "name": "python",
   "nbconvert_exporter": "python",
   "pygments_lexer": "ipython3",
   "version": "3.8.3"
  }
 },
 "nbformat": 4,
 "nbformat_minor": 4
}
