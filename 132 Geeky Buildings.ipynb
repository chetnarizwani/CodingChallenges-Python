{
 "cells": [
  {
   "cell_type": "code",
   "execution_count": 14,
   "metadata": {},
   "outputs": [
    {
     "name": "stdout",
     "output_type": "stream",
     "text": [
      "1--- [5, 4, 3, 2, 1, 0]\n",
      "2--- 2 -inf\n",
      "5--- [2]\n",
      "2--- 13 -inf\n",
      "3--- [2] 13 2\n",
      "4--- 2\n",
      "5--- [13]\n",
      "2--- 5 2\n",
      "5--- [13, 5]\n",
      "2--- 11 2\n",
      "3--- [13, 5] 11 5\n",
      "4--- 5\n",
      "5--- [13, 11]\n",
      "2--- 7 5\n",
      "5--- [13, 11, 7]\n",
      "2--- 4 5\n"
     ]
    },
    {
     "data": {
      "text/plain": [
       "True"
      ]
     },
     "execution_count": 14,
     "metadata": {},
     "output_type": "execute_result"
    }
   ],
   "source": [
    "def recreationalSpot(arr, n):\n",
    "    third = float(\"-inf\")\n",
    "    st = []\n",
    "    print(\"1---\",[i for i in reversed(range(n))])\n",
    "    for i in reversed(range(n)):\n",
    "        print(\"2---\",arr[i],third)\n",
    "        if arr[i] < third:\n",
    "            return True\n",
    "        else:\n",
    "            while st and arr[i] > st[-1]:\n",
    "                print(\"3---\",st,arr[i],st[-1])\n",
    "                third = st.pop()\n",
    "                print(\"4---\",third)\n",
    "        st.append(arr[i])\n",
    "        print(\"5---\",st)\n",
    "    return False\n",
    "\n",
    "l = [4, 7, 11, 5, 13, 2]\n",
    "recreationalSpot(l,len(l))"
   ]
  },
  {
   "cell_type": "code",
   "execution_count": null,
   "metadata": {},
   "outputs": [],
   "source": [
    "def recreationalSpot(self, arr, n):\n",
    "    ak = float(\"-inf\")\n",
    "    st = []\n",
    "    for i in reversed(range(n)):\n",
    "        if arr[i] < ak:\n",
    "            return True\n",
    "        else:\n",
    "            while st and arr[i] > st[-1]:\n",
    "                ak = st.pop()\n",
    "        st.append(arr[i])\n",
    "    return False"
   ]
  }
 ],
 "metadata": {
  "kernelspec": {
   "display_name": "Python 3",
   "language": "python",
   "name": "python3"
  },
  "language_info": {
   "codemirror_mode": {
    "name": "ipython",
    "version": 3
   },
   "file_extension": ".py",
   "mimetype": "text/x-python",
   "name": "python",
   "nbconvert_exporter": "python",
   "pygments_lexer": "ipython3",
   "version": "3.8.3"
  }
 },
 "nbformat": 4,
 "nbformat_minor": 4
}
