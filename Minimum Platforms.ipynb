{
 "cells": [
  {
   "cell_type": "code",
   "execution_count": 3,
   "metadata": {},
   "outputs": [
    {
     "data": {
      "text/plain": [
       "1"
      ]
     },
     "execution_count": 3,
     "metadata": {},
     "output_type": "execute_result"
    }
   ],
   "source": [
    "class Solution:    \n",
    "    def minimumPlatform(self,n,arr,dep):\n",
    "        arr.sort()\n",
    "        dep.sort()\n",
    "        p = 1\n",
    "        res = 1\n",
    "        i = 1\n",
    "        j = 0\n",
    "        \n",
    "        while i < n and j < n:\n",
    "            if arr[i] <= dep[j]:\n",
    "                p += 1\n",
    "                i += 1\n",
    "            elif arr[i] > dep[j]:\n",
    "                p -= 1\n",
    "                j += 1\n",
    "            if p > res:\n",
    "                res = p\n",
    "        return res\n",
    "    \n",
    "n = 3\n",
    "arr = [900, 1100, 1235]\n",
    "dep = [1000, 1200, 1240]\n",
    "ob = Solution()\n",
    "ob.minimumPlatform(n,arr,dep)"
   ]
  },
  {
   "cell_type": "code",
   "execution_count": null,
   "metadata": {},
   "outputs": [],
   "source": []
  }
 ],
 "metadata": {
  "kernelspec": {
   "display_name": "Python 3",
   "language": "python",
   "name": "python3"
  },
  "language_info": {
   "codemirror_mode": {
    "name": "ipython",
    "version": 3
   },
   "file_extension": ".py",
   "mimetype": "text/x-python",
   "name": "python",
   "nbconvert_exporter": "python",
   "pygments_lexer": "ipython3",
   "version": "3.8.3"
  }
 },
 "nbformat": 4,
 "nbformat_minor": 4
}
