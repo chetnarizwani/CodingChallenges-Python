{
 "cells": [
  {
   "cell_type": "code",
   "execution_count": 5,
   "metadata": {},
   "outputs": [
    {
     "data": {
      "text/plain": [
       "54"
      ]
     },
     "execution_count": 5,
     "metadata": {},
     "output_type": "execute_result"
    }
   ],
   "source": [
    "class Solution:\n",
    "    def possible(self,boards, painters, time):\n",
    "        if painters < 1:\n",
    "            return False\n",
    "        temp = 0\n",
    "        for i in range(len(boards)):\n",
    "            if boards[i] > time:\n",
    "                return False\n",
    "            if temp+boards[i] > time:\n",
    "                temp = boards[i]\n",
    "                painters -= 1\n",
    "                if painters == 0:\n",
    "                    return False\n",
    "            else:\n",
    "                temp += boards[i]\n",
    "        return True\n",
    "    \n",
    "    def minTime(self,boards, _ ,painters):\n",
    "        left = max(boards)\n",
    "        right = sum(boards)\n",
    "        minimum_time = right\n",
    "#         print(\"Left\",left)\n",
    "#         print(\"Right\",right)\n",
    "#         print()\n",
    "        while left <= right:\n",
    "            mid = (left+right)//2\n",
    "#             print(\"Mid\", mid)\n",
    "            if self.possible(boards, painters, mid):\n",
    "#                 print(\"Possible\", self.possible(boards, painters, mid))\n",
    "                minimum_time = mid\n",
    "#                 print(\"Minimum time\", minimum_time)\n",
    "                right = mid-1\n",
    "#                 print(\"Left\",left)\n",
    "#                 print(\"Right\",right)\n",
    "            else:\n",
    "#                 print(\"Possible\", self.possible(boards, painters, mid))\n",
    "#                 print(\"Minimum time\", minimum_time)\n",
    "                left = mid+1\n",
    "#                 print(\"Left\",left)\n",
    "#                 print(\"Right\",right)\n",
    "#             print()\n",
    "        return minimum_time\n",
    "\n",
    "ob = Solution()\n",
    "boards = [10, 20, 15, 30, 24, 35, 28, 15, 10]\n",
    "painters = 4\n",
    "ob.minTime(boards,len(boards),painters)\n",
    "        "
   ]
  },
  {
   "cell_type": "code",
   "execution_count": null,
   "metadata": {},
   "outputs": [],
   "source": []
  }
 ],
 "metadata": {
  "kernelspec": {
   "display_name": "Python 3",
   "language": "python",
   "name": "python3"
  },
  "language_info": {
   "codemirror_mode": {
    "name": "ipython",
    "version": 3
   },
   "file_extension": ".py",
   "mimetype": "text/x-python",
   "name": "python",
   "nbconvert_exporter": "python",
   "pygments_lexer": "ipython3",
   "version": "3.8.3"
  }
 },
 "nbformat": 4,
 "nbformat_minor": 4
}
