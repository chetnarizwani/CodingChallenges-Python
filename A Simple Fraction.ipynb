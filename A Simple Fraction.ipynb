{
 "cells": [
  {
   "cell_type": "code",
   "execution_count": 5,
   "metadata": {},
   "outputs": [
    {
     "name": "stdout",
     "output_type": "stream",
     "text": [
      "1,4\n",
      "0.25\n"
     ]
    }
   ],
   "source": [
    "class Solution:\n",
    "    def fractionToDecimal(self, numerator, denominator):\n",
    "        sign = '-' if numerator*denominator < 0 else ''\n",
    "        quotient, remainder = divmod(abs(numerator), abs(denominator))\n",
    "#         print(quotient,remainder)\n",
    "        result = [sign, str(quotient), '.']\n",
    "        remainders = []\n",
    "        while remainder not in remainders:\n",
    "            remainders.append(remainder)\n",
    "            quotient, remainder = divmod(remainder*10, abs(denominator))\n",
    "#             print(quotient,remainder)\n",
    "            result.append(str(quotient))\n",
    "#         print(result)\n",
    "#         print(remainders)\n",
    "#         print(remainder)\n",
    "        i = remainders.index(remainder)\n",
    "#         print(i)\n",
    "        result.insert(i+3,\"(\")\n",
    "        result.append(\")\")\n",
    "#         print(result)\n",
    "        res = ''.join(result).replace('(0)',\"\").rstrip('.')\n",
    "        return res\n",
    "\n",
    "numerator, denominator = input().split(\",\")\n",
    "numerator = int(numerator)\n",
    "denominator = int(denominator)\n",
    "sol = Solution()\n",
    "answer = sol.fractionToDecimal(numerator,denominator)\n",
    "print(answer)"
   ]
  },
  {
   "cell_type": "code",
   "execution_count": null,
   "metadata": {},
   "outputs": [],
   "source": []
  }
 ],
 "metadata": {
  "kernelspec": {
   "display_name": "Python 3",
   "language": "python",
   "name": "python3"
  },
  "language_info": {
   "codemirror_mode": {
    "name": "ipython",
    "version": 3
   },
   "file_extension": ".py",
   "mimetype": "text/x-python",
   "name": "python",
   "nbconvert_exporter": "python",
   "pygments_lexer": "ipython3",
   "version": "3.8.3"
  }
 },
 "nbformat": 4,
 "nbformat_minor": 4
}
